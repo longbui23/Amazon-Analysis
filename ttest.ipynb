{
  "nbformat": 4,
  "nbformat_minor": 0,
  "metadata": {
    "colab": {
      "provenance": [],
      "collapsed_sections": [
        "PotCY0E1ayOf",
        "kSHEq8thMLQ2",
        "rEoagZmQ-Pic",
        "QphgCeQ1gmuT",
        "FdPnwKcthB3C"
      ],
      "include_colab_link": true
    },
    "kernelspec": {
      "name": "python3",
      "display_name": "Python 3"
    },
    "language_info": {
      "name": "python"
    }
  },
  "cells": [
    {
      "cell_type": "markdown",
      "metadata": {
        "id": "view-in-github",
        "colab_type": "text"
      },
      "source": [
        "<a href=\"https://colab.research.google.com/github/longbui23/Amazon-Sentiment-Analysis/blob/main/ttest.ipynb\" target=\"_parent\"><img src=\"https://colab.research.google.com/assets/colab-badge.svg\" alt=\"Open In Colab\"/></a>"
      ]
    },
    {
      "cell_type": "markdown",
      "source": [
        "# **T-TEST BETWEEN DIFFERENT PRICE RANGE**"
      ],
      "metadata": {
        "id": "DSk3RiT_arMr"
      }
    },
    {
      "cell_type": "markdown",
      "source": [
        "## **1) Data Cleaning**"
      ],
      "metadata": {
        "id": "PotCY0E1ayOf"
      }
    },
    {
      "cell_type": "code",
      "execution_count": 96,
      "metadata": {
        "colab": {
          "base_uri": "https://localhost:8080/"
        },
        "id": "1C_67okp5BKA",
        "outputId": "50935545-d302-41da-f2a9-65b7ff004e90"
      },
      "outputs": [
        {
          "output_type": "stream",
          "name": "stdout",
          "text": [
            "Drive already mounted at /content/drive; to attempt to forcibly remount, call drive.mount(\"/content/drive\", force_remount=True).\n",
            "/content/drive/My Drive/ECON314: Amazon-Sentiment-Analysis\n"
          ]
        }
      ],
      "source": [
        "#mount drive\n",
        "from google.colab import drive\n",
        "drive.mount('/content/drive')\n",
        "\n",
        "%cd /content/drive/My Drive/ECON314: Amazon-Sentiment-Analysis"
      ]
    },
    {
      "cell_type": "code",
      "source": [
        "#import libraries\n",
        "import numpy as np\n",
        "import pandas as pd\n",
        "\n",
        "import scipy.stats as stats\n",
        "from statsmodels.stats.weightstats import ttest_ind\n",
        "\n",
        "\n",
        "import matplotlib.pyplot as plt\n",
        "import seaborn as sns\n",
        "from itertools import combinations"
      ],
      "metadata": {
        "id": "ZqNZ5F9B5qXU"
      },
      "execution_count": 97,
      "outputs": []
    },
    {
      "cell_type": "code",
      "source": [
        "#import data\n",
        "df = pd.read_csv(\"Data/sentiment.csv\")\n",
        "df.head()"
      ],
      "metadata": {
        "colab": {
          "base_uri": "https://localhost:8080/",
          "height": 0
        },
        "id": "1LbnIWQp5vZx",
        "outputId": "1ad7a172-1652-4b30-d2e9-75dad45e6d99"
      },
      "execution_count": 98,
      "outputs": [
        {
          "output_type": "execute_result",
          "data": {
            "text/plain": [
              "   reviewID                                     Product Name Brand Name  \\\n",
              "0         0  Acer Liquid M220 Windows 8.1 Smartphone - Black       ACER   \n",
              "1         1  Acer Liquid M220 Windows 8.1 Smartphone - Black       ACER   \n",
              "2         2  Acer Liquid M220 Windows 8.1 Smartphone - Black       ACER   \n",
              "3         3  Acer Liquid M220 Windows 8.1 Smartphone - Black       ACER   \n",
              "4         4  Acer Liquid M220 Windows 8.1 Smartphone - Black       ACER   \n",
              "\n",
              "   Price  Rating                                             Review  \\\n",
              "0  34.95       3  this phone was a replacement for my niece, her...   \n",
              "1  34.95       5  Dual Sims are better than one sim has blurred ...   \n",
              "2  34.95       5  Nice phone. I am waiting to be upgraded to Win...   \n",
              "3  34.95       1                  I did not receive my order items.   \n",
              "4  34.95       1  First off, great service as usual. I wanted a ...   \n",
              "\n",
              "   Review Votes  Review Length  sentimentScore                       sentiment  \n",
              "0           4.0            642        0.003940  Neutral with Negative Feedback  \n",
              "1           2.0             51        0.625000                        positive  \n",
              "2           2.0             53        0.600000                        positive  \n",
              "3           0.0             33        0.000000  Neutral with Negative Feedback  \n",
              "4           5.0           1164        0.077216  Neutral with Negative Feedback  "
            ],
            "text/html": [
              "\n",
              "  <div id=\"df-dce46422-866b-4ff0-8f3e-25583102f0b1\" class=\"colab-df-container\">\n",
              "    <div>\n",
              "<style scoped>\n",
              "    .dataframe tbody tr th:only-of-type {\n",
              "        vertical-align: middle;\n",
              "    }\n",
              "\n",
              "    .dataframe tbody tr th {\n",
              "        vertical-align: top;\n",
              "    }\n",
              "\n",
              "    .dataframe thead th {\n",
              "        text-align: right;\n",
              "    }\n",
              "</style>\n",
              "<table border=\"1\" class=\"dataframe\">\n",
              "  <thead>\n",
              "    <tr style=\"text-align: right;\">\n",
              "      <th></th>\n",
              "      <th>reviewID</th>\n",
              "      <th>Product Name</th>\n",
              "      <th>Brand Name</th>\n",
              "      <th>Price</th>\n",
              "      <th>Rating</th>\n",
              "      <th>Review</th>\n",
              "      <th>Review Votes</th>\n",
              "      <th>Review Length</th>\n",
              "      <th>sentimentScore</th>\n",
              "      <th>sentiment</th>\n",
              "    </tr>\n",
              "  </thead>\n",
              "  <tbody>\n",
              "    <tr>\n",
              "      <th>0</th>\n",
              "      <td>0</td>\n",
              "      <td>Acer Liquid M220 Windows 8.1 Smartphone - Black</td>\n",
              "      <td>ACER</td>\n",
              "      <td>34.95</td>\n",
              "      <td>3</td>\n",
              "      <td>this phone was a replacement for my niece, her...</td>\n",
              "      <td>4.0</td>\n",
              "      <td>642</td>\n",
              "      <td>0.003940</td>\n",
              "      <td>Neutral with Negative Feedback</td>\n",
              "    </tr>\n",
              "    <tr>\n",
              "      <th>1</th>\n",
              "      <td>1</td>\n",
              "      <td>Acer Liquid M220 Windows 8.1 Smartphone - Black</td>\n",
              "      <td>ACER</td>\n",
              "      <td>34.95</td>\n",
              "      <td>5</td>\n",
              "      <td>Dual Sims are better than one sim has blurred ...</td>\n",
              "      <td>2.0</td>\n",
              "      <td>51</td>\n",
              "      <td>0.625000</td>\n",
              "      <td>positive</td>\n",
              "    </tr>\n",
              "    <tr>\n",
              "      <th>2</th>\n",
              "      <td>2</td>\n",
              "      <td>Acer Liquid M220 Windows 8.1 Smartphone - Black</td>\n",
              "      <td>ACER</td>\n",
              "      <td>34.95</td>\n",
              "      <td>5</td>\n",
              "      <td>Nice phone. I am waiting to be upgraded to Win...</td>\n",
              "      <td>2.0</td>\n",
              "      <td>53</td>\n",
              "      <td>0.600000</td>\n",
              "      <td>positive</td>\n",
              "    </tr>\n",
              "    <tr>\n",
              "      <th>3</th>\n",
              "      <td>3</td>\n",
              "      <td>Acer Liquid M220 Windows 8.1 Smartphone - Black</td>\n",
              "      <td>ACER</td>\n",
              "      <td>34.95</td>\n",
              "      <td>1</td>\n",
              "      <td>I did not receive my order items.</td>\n",
              "      <td>0.0</td>\n",
              "      <td>33</td>\n",
              "      <td>0.000000</td>\n",
              "      <td>Neutral with Negative Feedback</td>\n",
              "    </tr>\n",
              "    <tr>\n",
              "      <th>4</th>\n",
              "      <td>4</td>\n",
              "      <td>Acer Liquid M220 Windows 8.1 Smartphone - Black</td>\n",
              "      <td>ACER</td>\n",
              "      <td>34.95</td>\n",
              "      <td>1</td>\n",
              "      <td>First off, great service as usual. I wanted a ...</td>\n",
              "      <td>5.0</td>\n",
              "      <td>1164</td>\n",
              "      <td>0.077216</td>\n",
              "      <td>Neutral with Negative Feedback</td>\n",
              "    </tr>\n",
              "  </tbody>\n",
              "</table>\n",
              "</div>\n",
              "    <div class=\"colab-df-buttons\">\n",
              "\n",
              "  <div class=\"colab-df-container\">\n",
              "    <button class=\"colab-df-convert\" onclick=\"convertToInteractive('df-dce46422-866b-4ff0-8f3e-25583102f0b1')\"\n",
              "            title=\"Convert this dataframe to an interactive table.\"\n",
              "            style=\"display:none;\">\n",
              "\n",
              "  <svg xmlns=\"http://www.w3.org/2000/svg\" height=\"24px\" viewBox=\"0 -960 960 960\">\n",
              "    <path d=\"M120-120v-720h720v720H120Zm60-500h600v-160H180v160Zm220 220h160v-160H400v160Zm0 220h160v-160H400v160ZM180-400h160v-160H180v160Zm440 0h160v-160H620v160ZM180-180h160v-160H180v160Zm440 0h160v-160H620v160Z\"/>\n",
              "  </svg>\n",
              "    </button>\n",
              "\n",
              "  <style>\n",
              "    .colab-df-container {\n",
              "      display:flex;\n",
              "      gap: 12px;\n",
              "    }\n",
              "\n",
              "    .colab-df-convert {\n",
              "      background-color: #E8F0FE;\n",
              "      border: none;\n",
              "      border-radius: 50%;\n",
              "      cursor: pointer;\n",
              "      display: none;\n",
              "      fill: #1967D2;\n",
              "      height: 32px;\n",
              "      padding: 0 0 0 0;\n",
              "      width: 32px;\n",
              "    }\n",
              "\n",
              "    .colab-df-convert:hover {\n",
              "      background-color: #E2EBFA;\n",
              "      box-shadow: 0px 1px 2px rgba(60, 64, 67, 0.3), 0px 1px 3px 1px rgba(60, 64, 67, 0.15);\n",
              "      fill: #174EA6;\n",
              "    }\n",
              "\n",
              "    .colab-df-buttons div {\n",
              "      margin-bottom: 4px;\n",
              "    }\n",
              "\n",
              "    [theme=dark] .colab-df-convert {\n",
              "      background-color: #3B4455;\n",
              "      fill: #D2E3FC;\n",
              "    }\n",
              "\n",
              "    [theme=dark] .colab-df-convert:hover {\n",
              "      background-color: #434B5C;\n",
              "      box-shadow: 0px 1px 3px 1px rgba(0, 0, 0, 0.15);\n",
              "      filter: drop-shadow(0px 1px 2px rgba(0, 0, 0, 0.3));\n",
              "      fill: #FFFFFF;\n",
              "    }\n",
              "  </style>\n",
              "\n",
              "    <script>\n",
              "      const buttonEl =\n",
              "        document.querySelector('#df-dce46422-866b-4ff0-8f3e-25583102f0b1 button.colab-df-convert');\n",
              "      buttonEl.style.display =\n",
              "        google.colab.kernel.accessAllowed ? 'block' : 'none';\n",
              "\n",
              "      async function convertToInteractive(key) {\n",
              "        const element = document.querySelector('#df-dce46422-866b-4ff0-8f3e-25583102f0b1');\n",
              "        const dataTable =\n",
              "          await google.colab.kernel.invokeFunction('convertToInteractive',\n",
              "                                                    [key], {});\n",
              "        if (!dataTable) return;\n",
              "\n",
              "        const docLinkHtml = 'Like what you see? Visit the ' +\n",
              "          '<a target=\"_blank\" href=https://colab.research.google.com/notebooks/data_table.ipynb>data table notebook</a>'\n",
              "          + ' to learn more about interactive tables.';\n",
              "        element.innerHTML = '';\n",
              "        dataTable['output_type'] = 'display_data';\n",
              "        await google.colab.output.renderOutput(dataTable, element);\n",
              "        const docLink = document.createElement('div');\n",
              "        docLink.innerHTML = docLinkHtml;\n",
              "        element.appendChild(docLink);\n",
              "      }\n",
              "    </script>\n",
              "  </div>\n",
              "\n",
              "\n",
              "<div id=\"df-344ee406-7e43-46ad-b47d-b78571d770f4\">\n",
              "  <button class=\"colab-df-quickchart\" onclick=\"quickchart('df-344ee406-7e43-46ad-b47d-b78571d770f4')\"\n",
              "            title=\"Suggest charts\"\n",
              "            style=\"display:none;\">\n",
              "\n",
              "<svg xmlns=\"http://www.w3.org/2000/svg\" height=\"24px\"viewBox=\"0 0 24 24\"\n",
              "     width=\"24px\">\n",
              "    <g>\n",
              "        <path d=\"M19 3H5c-1.1 0-2 .9-2 2v14c0 1.1.9 2 2 2h14c1.1 0 2-.9 2-2V5c0-1.1-.9-2-2-2zM9 17H7v-7h2v7zm4 0h-2V7h2v10zm4 0h-2v-4h2v4z\"/>\n",
              "    </g>\n",
              "</svg>\n",
              "  </button>\n",
              "\n",
              "<style>\n",
              "  .colab-df-quickchart {\n",
              "      --bg-color: #E8F0FE;\n",
              "      --fill-color: #1967D2;\n",
              "      --hover-bg-color: #E2EBFA;\n",
              "      --hover-fill-color: #174EA6;\n",
              "      --disabled-fill-color: #AAA;\n",
              "      --disabled-bg-color: #DDD;\n",
              "  }\n",
              "\n",
              "  [theme=dark] .colab-df-quickchart {\n",
              "      --bg-color: #3B4455;\n",
              "      --fill-color: #D2E3FC;\n",
              "      --hover-bg-color: #434B5C;\n",
              "      --hover-fill-color: #FFFFFF;\n",
              "      --disabled-bg-color: #3B4455;\n",
              "      --disabled-fill-color: #666;\n",
              "  }\n",
              "\n",
              "  .colab-df-quickchart {\n",
              "    background-color: var(--bg-color);\n",
              "    border: none;\n",
              "    border-radius: 50%;\n",
              "    cursor: pointer;\n",
              "    display: none;\n",
              "    fill: var(--fill-color);\n",
              "    height: 32px;\n",
              "    padding: 0;\n",
              "    width: 32px;\n",
              "  }\n",
              "\n",
              "  .colab-df-quickchart:hover {\n",
              "    background-color: var(--hover-bg-color);\n",
              "    box-shadow: 0 1px 2px rgba(60, 64, 67, 0.3), 0 1px 3px 1px rgba(60, 64, 67, 0.15);\n",
              "    fill: var(--button-hover-fill-color);\n",
              "  }\n",
              "\n",
              "  .colab-df-quickchart-complete:disabled,\n",
              "  .colab-df-quickchart-complete:disabled:hover {\n",
              "    background-color: var(--disabled-bg-color);\n",
              "    fill: var(--disabled-fill-color);\n",
              "    box-shadow: none;\n",
              "  }\n",
              "\n",
              "  .colab-df-spinner {\n",
              "    border: 2px solid var(--fill-color);\n",
              "    border-color: transparent;\n",
              "    border-bottom-color: var(--fill-color);\n",
              "    animation:\n",
              "      spin 1s steps(1) infinite;\n",
              "  }\n",
              "\n",
              "  @keyframes spin {\n",
              "    0% {\n",
              "      border-color: transparent;\n",
              "      border-bottom-color: var(--fill-color);\n",
              "      border-left-color: var(--fill-color);\n",
              "    }\n",
              "    20% {\n",
              "      border-color: transparent;\n",
              "      border-left-color: var(--fill-color);\n",
              "      border-top-color: var(--fill-color);\n",
              "    }\n",
              "    30% {\n",
              "      border-color: transparent;\n",
              "      border-left-color: var(--fill-color);\n",
              "      border-top-color: var(--fill-color);\n",
              "      border-right-color: var(--fill-color);\n",
              "    }\n",
              "    40% {\n",
              "      border-color: transparent;\n",
              "      border-right-color: var(--fill-color);\n",
              "      border-top-color: var(--fill-color);\n",
              "    }\n",
              "    60% {\n",
              "      border-color: transparent;\n",
              "      border-right-color: var(--fill-color);\n",
              "    }\n",
              "    80% {\n",
              "      border-color: transparent;\n",
              "      border-right-color: var(--fill-color);\n",
              "      border-bottom-color: var(--fill-color);\n",
              "    }\n",
              "    90% {\n",
              "      border-color: transparent;\n",
              "      border-bottom-color: var(--fill-color);\n",
              "    }\n",
              "  }\n",
              "</style>\n",
              "\n",
              "  <script>\n",
              "    async function quickchart(key) {\n",
              "      const quickchartButtonEl =\n",
              "        document.querySelector('#' + key + ' button');\n",
              "      quickchartButtonEl.disabled = true;  // To prevent multiple clicks.\n",
              "      quickchartButtonEl.classList.add('colab-df-spinner');\n",
              "      try {\n",
              "        const charts = await google.colab.kernel.invokeFunction(\n",
              "            'suggestCharts', [key], {});\n",
              "      } catch (error) {\n",
              "        console.error('Error during call to suggestCharts:', error);\n",
              "      }\n",
              "      quickchartButtonEl.classList.remove('colab-df-spinner');\n",
              "      quickchartButtonEl.classList.add('colab-df-quickchart-complete');\n",
              "    }\n",
              "    (() => {\n",
              "      let quickchartButtonEl =\n",
              "        document.querySelector('#df-344ee406-7e43-46ad-b47d-b78571d770f4 button');\n",
              "      quickchartButtonEl.style.display =\n",
              "        google.colab.kernel.accessAllowed ? 'block' : 'none';\n",
              "    })();\n",
              "  </script>\n",
              "</div>\n",
              "\n",
              "    </div>\n",
              "  </div>\n"
            ],
            "application/vnd.google.colaboratory.intrinsic+json": {
              "type": "dataframe",
              "variable_name": "df"
            }
          },
          "metadata": {},
          "execution_count": 98
        }
      ]
    },
    {
      "cell_type": "markdown",
      "source": [
        "**Price Range Segmentation**"
      ],
      "metadata": {
        "id": "VKIqjMwsa8rA"
      }
    },
    {
      "cell_type": "code",
      "source": [
        "#classify price range\n",
        "priceRange = []\n",
        "\n",
        "for price in df['Price']:\n",
        "    if price < 71.05:\n",
        "        priceRange.append(\"Low price\")\n",
        "    elif 71.05 <= price < 116.99:\n",
        "        priceRange.append(\"Low-Mid price\")\n",
        "    elif 116.99 <= price < 325.16:\n",
        "        priceRange.append(\"Mid price\")\n",
        "    elif 325.16 <= price < 622.9:\n",
        "        priceRange.append(\"Higher-mid price\")\n",
        "    else:\n",
        "        priceRange.append(\"High-end price\")\n"
      ],
      "metadata": {
        "id": "bBfTYggA576m"
      },
      "execution_count": 99,
      "outputs": []
    },
    {
      "cell_type": "code",
      "source": [
        "#add a new column to the data\n",
        "df['Price Ranges'] = priceRange\n",
        "\n",
        "df['Price Ranges'].value_counts()"
      ],
      "metadata": {
        "id": "_I2jCX6w7oUS",
        "colab": {
          "base_uri": "https://localhost:8080/"
        },
        "outputId": "ac1106f0-5aae-4d57-e481-e4d1129cf954"
      },
      "execution_count": 100,
      "outputs": [
        {
          "output_type": "execute_result",
          "data": {
            "text/plain": [
              "Mid price           65831\n",
              "Low price           36143\n",
              "Low-Mid price       36046\n",
              "Higher-mid price    16201\n",
              "High-end price       1589\n",
              "Name: Price Ranges, dtype: int64"
            ]
          },
          "metadata": {},
          "execution_count": 100
        }
      ]
    },
    {
      "cell_type": "code",
      "source": [
        "df.columns"
      ],
      "metadata": {
        "colab": {
          "base_uri": "https://localhost:8080/"
        },
        "id": "krmh68AqhKzr",
        "outputId": "87757295-fe30-4dc5-979a-11e60450a253"
      },
      "execution_count": 101,
      "outputs": [
        {
          "output_type": "execute_result",
          "data": {
            "text/plain": [
              "Index(['reviewID', 'Product Name', 'Brand Name', 'Price', 'Rating', 'Review',\n",
              "       'Review Votes', 'Review Length', 'sentimentScore', 'sentiment',\n",
              "       'Price Ranges'],\n",
              "      dtype='object')"
            ]
          },
          "metadata": {},
          "execution_count": 101
        }
      ]
    },
    {
      "cell_type": "markdown",
      "source": [
        "## **2) Functions for t-test**"
      ],
      "metadata": {
        "id": "A7NEhEjriKOQ"
      }
    },
    {
      "cell_type": "markdown",
      "source": [
        "### Function to remove outliers: remove_outliers(df, col)"
      ],
      "metadata": {
        "id": "kSHEq8thMLQ2"
      }
    },
    {
      "cell_type": "code",
      "source": [
        "def remove_outliers(df, col):\n",
        "    '''Find lower and upper bounds of the given column of the df and remove outliers'''\n",
        "\n",
        "    # Extract the specified column from the DataFrame\n",
        "    column = df[col]\n",
        "\n",
        "    # Calculate the first quartile (Q1) and third quartile (Q3)\n",
        "    Q1 = np.percentile(column, 25)\n",
        "    Q3 = np.percentile(column, 75)\n",
        "\n",
        "    # Calculate the interquartile range (IQR)\n",
        "    IQR = Q3 - Q1\n",
        "\n",
        "    # Define the lower and upper bounds for outliers\n",
        "    lower_bound = Q1 - 1.5 * IQR\n",
        "    upper_bound = Q3 + 1.5 * IQR\n",
        "\n",
        "    #display outlier\n",
        "    print(\"Lower Bound is\", lower_bound)\n",
        "    print(\"Upper Bound is\", upper_bound)\n",
        "\n",
        "    sns.boxplot(df[col])\n",
        "    plt.ylabel(col + \" original\")\n",
        "    plt.show()\n",
        "\n",
        "    # Filter\n",
        "    df_filtered = df[(df[col] > lower_bound) & (df[col] < upper_bound)]\n",
        "\n",
        "    #display\n",
        "    print(f\"{col} after removing outlier:\")\n",
        "    print(df_filtered[col].describe())\n",
        "\n",
        "\n",
        "    return df_filtered"
      ],
      "metadata": {
        "id": "SuTKjUWQiaux"
      },
      "execution_count": 102,
      "outputs": []
    },
    {
      "cell_type": "markdown",
      "source": [
        "### Function to plot distribution between group prices: plot_price_range_histograms(df, col, segment_col)"
      ],
      "metadata": {
        "id": "T3iJxMXgMRv4"
      }
    },
    {
      "cell_type": "code",
      "source": [
        "def plot_price_range_histograms(df, col, segment_col):\n",
        "    '''Plot histograms for each price range'''\n",
        "\n",
        "    # Create a figure and subplots\n",
        "    fig, axs = plt.subplots(1, len(segment_col), figsize=(15, 6), sharey=True)\n",
        "\n",
        "    # Iterate through each price range\n",
        "    for i, price_range in enumerate(segment_col):\n",
        "        # Filter data for the current price range\n",
        "        price_range_reviews = df[df['Price Ranges'] == price_range][col]\n",
        "\n",
        "        # Plot histogram for the current price range\n",
        "        axs[i].hist(price_range_reviews, bins=30, alpha=0.5, label=price_range)\n",
        "        axs[i].set_title(f'Histogram of {price_range}')\n",
        "        axs[i].set_xlabel(col)\n",
        "        axs[i].set_ylabel('Frequency')\n",
        "        axs[i].legend()\n",
        "        axs[i].grid(True)\n",
        "\n",
        "    # Adjust layout\n",
        "    plt.tight_layout()\n",
        "\n",
        "    # Show the plot\n",
        "    plt.show()"
      ],
      "metadata": {
        "id": "vjCNQxG8MQlU"
      },
      "execution_count": 103,
      "outputs": []
    },
    {
      "cell_type": "markdown",
      "source": [
        "### Function for t-test: perform_pairwise_ttests(df, col, col_segment)"
      ],
      "metadata": {
        "id": "oszmSvBYXcHZ"
      }
    },
    {
      "cell_type": "code",
      "source": [
        "def perform_pairwise_ttests(df, col, col_segment):\n",
        "    '''Perform pairwise t-tests between all combinations of price ranges'''\n",
        "\n",
        "    #col sengment to list\n",
        "    col_range = df_interquantile[col_segment].unique()\n",
        "\n",
        "    # Iterate through all combinations of price ranges\n",
        "    for col_range1, col_range2 in combinations(col_range, 2):\n",
        "        # Select the data for the two price ranges\n",
        "        data1 = df[df['Price Ranges'] == col_range1][col]\n",
        "        data2 = df[df['Price Ranges'] == col_range2][col]\n",
        "\n",
        "        # Perform Levene's test to check for equal variances\n",
        "        levene_test = stats.levene(data1, data2)\n",
        "\n",
        "        if levene_test.pvalue >= 0.05:\n",
        "            # If p-value from Levene's test is >= 0.05, use equal variance t-test\n",
        "            t_statistic, p_value = stats.ttest_ind(data1, data2, equal_var=True)\n",
        "        else:\n",
        "            # If p-value from Levene's test is < 0.05, use Welch's t-test (unequal variance t-test)\n",
        "            t_statistic, p_value = stats.ttest_ind(data1, data2, equal_var=False)\n",
        "\n",
        "        # Print the results\n",
        "        print(f\"T-test results for {col_range1} vs {col_range2}:\")\n",
        "        print(f\"Test statistic: {t_statistic:.15f}, p-value: {p_value:.15f}\")\n",
        "        if p_value < 0.05:\n",
        "            print(\"The difference is statistically significant.\")\n",
        "        else:\n",
        "            print(\"The difference is not statistically significant.\")\n",
        "        print()"
      ],
      "metadata": {
        "id": "qTkBe9nkXcad"
      },
      "execution_count": 104,
      "outputs": []
    },
    {
      "cell_type": "markdown",
      "source": [
        "## **3) T-test for different Price Range**"
      ],
      "metadata": {
        "id": "1_lMz4eQbKt4"
      }
    },
    {
      "cell_type": "markdown",
      "source": [
        "### **a) T-test for Count of Reviews on Price**"
      ],
      "metadata": {
        "id": "jnvkClCw6t2C"
      }
    },
    {
      "cell_type": "code",
      "source": [
        "#count the total number of reviews for each price:\n",
        "df['Reviews_Count'] = df.groupby('Price')['Review'].transform('count')\n",
        "\n",
        "df.head()"
      ],
      "metadata": {
        "colab": {
          "base_uri": "https://localhost:8080/",
          "height": 0
        },
        "id": "v6dDLgxW6ea7",
        "outputId": "ccb20c07-0950-4cfa-bfdc-7c3a93f93a67"
      },
      "execution_count": 105,
      "outputs": [
        {
          "output_type": "execute_result",
          "data": {
            "text/plain": [
              "   reviewID                                     Product Name Brand Name  \\\n",
              "0         0  Acer Liquid M220 Windows 8.1 Smartphone - Black       ACER   \n",
              "1         1  Acer Liquid M220 Windows 8.1 Smartphone - Black       ACER   \n",
              "2         2  Acer Liquid M220 Windows 8.1 Smartphone - Black       ACER   \n",
              "3         3  Acer Liquid M220 Windows 8.1 Smartphone - Black       ACER   \n",
              "4         4  Acer Liquid M220 Windows 8.1 Smartphone - Black       ACER   \n",
              "\n",
              "   Price  Rating                                             Review  \\\n",
              "0  34.95       3  this phone was a replacement for my niece, her...   \n",
              "1  34.95       5  Dual Sims are better than one sim has blurred ...   \n",
              "2  34.95       5  Nice phone. I am waiting to be upgraded to Win...   \n",
              "3  34.95       1                  I did not receive my order items.   \n",
              "4  34.95       1  First off, great service as usual. I wanted a ...   \n",
              "\n",
              "   Review Votes  Review Length  sentimentScore  \\\n",
              "0           4.0            642        0.003940   \n",
              "1           2.0             51        0.625000   \n",
              "2           2.0             53        0.600000   \n",
              "3           0.0             33        0.000000   \n",
              "4           5.0           1164        0.077216   \n",
              "\n",
              "                        sentiment Price Ranges  Reviews_Count  \n",
              "0  Neutral with Negative Feedback    Low price             53  \n",
              "1                        positive    Low price             53  \n",
              "2                        positive    Low price             53  \n",
              "3  Neutral with Negative Feedback    Low price             53  \n",
              "4  Neutral with Negative Feedback    Low price             53  "
            ],
            "text/html": [
              "\n",
              "  <div id=\"df-2effc0fc-7107-4f6c-b78e-1bc1f2d54f1f\" class=\"colab-df-container\">\n",
              "    <div>\n",
              "<style scoped>\n",
              "    .dataframe tbody tr th:only-of-type {\n",
              "        vertical-align: middle;\n",
              "    }\n",
              "\n",
              "    .dataframe tbody tr th {\n",
              "        vertical-align: top;\n",
              "    }\n",
              "\n",
              "    .dataframe thead th {\n",
              "        text-align: right;\n",
              "    }\n",
              "</style>\n",
              "<table border=\"1\" class=\"dataframe\">\n",
              "  <thead>\n",
              "    <tr style=\"text-align: right;\">\n",
              "      <th></th>\n",
              "      <th>reviewID</th>\n",
              "      <th>Product Name</th>\n",
              "      <th>Brand Name</th>\n",
              "      <th>Price</th>\n",
              "      <th>Rating</th>\n",
              "      <th>Review</th>\n",
              "      <th>Review Votes</th>\n",
              "      <th>Review Length</th>\n",
              "      <th>sentimentScore</th>\n",
              "      <th>sentiment</th>\n",
              "      <th>Price Ranges</th>\n",
              "      <th>Reviews_Count</th>\n",
              "    </tr>\n",
              "  </thead>\n",
              "  <tbody>\n",
              "    <tr>\n",
              "      <th>0</th>\n",
              "      <td>0</td>\n",
              "      <td>Acer Liquid M220 Windows 8.1 Smartphone - Black</td>\n",
              "      <td>ACER</td>\n",
              "      <td>34.95</td>\n",
              "      <td>3</td>\n",
              "      <td>this phone was a replacement for my niece, her...</td>\n",
              "      <td>4.0</td>\n",
              "      <td>642</td>\n",
              "      <td>0.003940</td>\n",
              "      <td>Neutral with Negative Feedback</td>\n",
              "      <td>Low price</td>\n",
              "      <td>53</td>\n",
              "    </tr>\n",
              "    <tr>\n",
              "      <th>1</th>\n",
              "      <td>1</td>\n",
              "      <td>Acer Liquid M220 Windows 8.1 Smartphone - Black</td>\n",
              "      <td>ACER</td>\n",
              "      <td>34.95</td>\n",
              "      <td>5</td>\n",
              "      <td>Dual Sims are better than one sim has blurred ...</td>\n",
              "      <td>2.0</td>\n",
              "      <td>51</td>\n",
              "      <td>0.625000</td>\n",
              "      <td>positive</td>\n",
              "      <td>Low price</td>\n",
              "      <td>53</td>\n",
              "    </tr>\n",
              "    <tr>\n",
              "      <th>2</th>\n",
              "      <td>2</td>\n",
              "      <td>Acer Liquid M220 Windows 8.1 Smartphone - Black</td>\n",
              "      <td>ACER</td>\n",
              "      <td>34.95</td>\n",
              "      <td>5</td>\n",
              "      <td>Nice phone. I am waiting to be upgraded to Win...</td>\n",
              "      <td>2.0</td>\n",
              "      <td>53</td>\n",
              "      <td>0.600000</td>\n",
              "      <td>positive</td>\n",
              "      <td>Low price</td>\n",
              "      <td>53</td>\n",
              "    </tr>\n",
              "    <tr>\n",
              "      <th>3</th>\n",
              "      <td>3</td>\n",
              "      <td>Acer Liquid M220 Windows 8.1 Smartphone - Black</td>\n",
              "      <td>ACER</td>\n",
              "      <td>34.95</td>\n",
              "      <td>1</td>\n",
              "      <td>I did not receive my order items.</td>\n",
              "      <td>0.0</td>\n",
              "      <td>33</td>\n",
              "      <td>0.000000</td>\n",
              "      <td>Neutral with Negative Feedback</td>\n",
              "      <td>Low price</td>\n",
              "      <td>53</td>\n",
              "    </tr>\n",
              "    <tr>\n",
              "      <th>4</th>\n",
              "      <td>4</td>\n",
              "      <td>Acer Liquid M220 Windows 8.1 Smartphone - Black</td>\n",
              "      <td>ACER</td>\n",
              "      <td>34.95</td>\n",
              "      <td>1</td>\n",
              "      <td>First off, great service as usual. I wanted a ...</td>\n",
              "      <td>5.0</td>\n",
              "      <td>1164</td>\n",
              "      <td>0.077216</td>\n",
              "      <td>Neutral with Negative Feedback</td>\n",
              "      <td>Low price</td>\n",
              "      <td>53</td>\n",
              "    </tr>\n",
              "  </tbody>\n",
              "</table>\n",
              "</div>\n",
              "    <div class=\"colab-df-buttons\">\n",
              "\n",
              "  <div class=\"colab-df-container\">\n",
              "    <button class=\"colab-df-convert\" onclick=\"convertToInteractive('df-2effc0fc-7107-4f6c-b78e-1bc1f2d54f1f')\"\n",
              "            title=\"Convert this dataframe to an interactive table.\"\n",
              "            style=\"display:none;\">\n",
              "\n",
              "  <svg xmlns=\"http://www.w3.org/2000/svg\" height=\"24px\" viewBox=\"0 -960 960 960\">\n",
              "    <path d=\"M120-120v-720h720v720H120Zm60-500h600v-160H180v160Zm220 220h160v-160H400v160Zm0 220h160v-160H400v160ZM180-400h160v-160H180v160Zm440 0h160v-160H620v160ZM180-180h160v-160H180v160Zm440 0h160v-160H620v160Z\"/>\n",
              "  </svg>\n",
              "    </button>\n",
              "\n",
              "  <style>\n",
              "    .colab-df-container {\n",
              "      display:flex;\n",
              "      gap: 12px;\n",
              "    }\n",
              "\n",
              "    .colab-df-convert {\n",
              "      background-color: #E8F0FE;\n",
              "      border: none;\n",
              "      border-radius: 50%;\n",
              "      cursor: pointer;\n",
              "      display: none;\n",
              "      fill: #1967D2;\n",
              "      height: 32px;\n",
              "      padding: 0 0 0 0;\n",
              "      width: 32px;\n",
              "    }\n",
              "\n",
              "    .colab-df-convert:hover {\n",
              "      background-color: #E2EBFA;\n",
              "      box-shadow: 0px 1px 2px rgba(60, 64, 67, 0.3), 0px 1px 3px 1px rgba(60, 64, 67, 0.15);\n",
              "      fill: #174EA6;\n",
              "    }\n",
              "\n",
              "    .colab-df-buttons div {\n",
              "      margin-bottom: 4px;\n",
              "    }\n",
              "\n",
              "    [theme=dark] .colab-df-convert {\n",
              "      background-color: #3B4455;\n",
              "      fill: #D2E3FC;\n",
              "    }\n",
              "\n",
              "    [theme=dark] .colab-df-convert:hover {\n",
              "      background-color: #434B5C;\n",
              "      box-shadow: 0px 1px 3px 1px rgba(0, 0, 0, 0.15);\n",
              "      filter: drop-shadow(0px 1px 2px rgba(0, 0, 0, 0.3));\n",
              "      fill: #FFFFFF;\n",
              "    }\n",
              "  </style>\n",
              "\n",
              "    <script>\n",
              "      const buttonEl =\n",
              "        document.querySelector('#df-2effc0fc-7107-4f6c-b78e-1bc1f2d54f1f button.colab-df-convert');\n",
              "      buttonEl.style.display =\n",
              "        google.colab.kernel.accessAllowed ? 'block' : 'none';\n",
              "\n",
              "      async function convertToInteractive(key) {\n",
              "        const element = document.querySelector('#df-2effc0fc-7107-4f6c-b78e-1bc1f2d54f1f');\n",
              "        const dataTable =\n",
              "          await google.colab.kernel.invokeFunction('convertToInteractive',\n",
              "                                                    [key], {});\n",
              "        if (!dataTable) return;\n",
              "\n",
              "        const docLinkHtml = 'Like what you see? Visit the ' +\n",
              "          '<a target=\"_blank\" href=https://colab.research.google.com/notebooks/data_table.ipynb>data table notebook</a>'\n",
              "          + ' to learn more about interactive tables.';\n",
              "        element.innerHTML = '';\n",
              "        dataTable['output_type'] = 'display_data';\n",
              "        await google.colab.output.renderOutput(dataTable, element);\n",
              "        const docLink = document.createElement('div');\n",
              "        docLink.innerHTML = docLinkHtml;\n",
              "        element.appendChild(docLink);\n",
              "      }\n",
              "    </script>\n",
              "  </div>\n",
              "\n",
              "\n",
              "<div id=\"df-22aea191-4f71-4b18-82e5-899d5c042312\">\n",
              "  <button class=\"colab-df-quickchart\" onclick=\"quickchart('df-22aea191-4f71-4b18-82e5-899d5c042312')\"\n",
              "            title=\"Suggest charts\"\n",
              "            style=\"display:none;\">\n",
              "\n",
              "<svg xmlns=\"http://www.w3.org/2000/svg\" height=\"24px\"viewBox=\"0 0 24 24\"\n",
              "     width=\"24px\">\n",
              "    <g>\n",
              "        <path d=\"M19 3H5c-1.1 0-2 .9-2 2v14c0 1.1.9 2 2 2h14c1.1 0 2-.9 2-2V5c0-1.1-.9-2-2-2zM9 17H7v-7h2v7zm4 0h-2V7h2v10zm4 0h-2v-4h2v4z\"/>\n",
              "    </g>\n",
              "</svg>\n",
              "  </button>\n",
              "\n",
              "<style>\n",
              "  .colab-df-quickchart {\n",
              "      --bg-color: #E8F0FE;\n",
              "      --fill-color: #1967D2;\n",
              "      --hover-bg-color: #E2EBFA;\n",
              "      --hover-fill-color: #174EA6;\n",
              "      --disabled-fill-color: #AAA;\n",
              "      --disabled-bg-color: #DDD;\n",
              "  }\n",
              "\n",
              "  [theme=dark] .colab-df-quickchart {\n",
              "      --bg-color: #3B4455;\n",
              "      --fill-color: #D2E3FC;\n",
              "      --hover-bg-color: #434B5C;\n",
              "      --hover-fill-color: #FFFFFF;\n",
              "      --disabled-bg-color: #3B4455;\n",
              "      --disabled-fill-color: #666;\n",
              "  }\n",
              "\n",
              "  .colab-df-quickchart {\n",
              "    background-color: var(--bg-color);\n",
              "    border: none;\n",
              "    border-radius: 50%;\n",
              "    cursor: pointer;\n",
              "    display: none;\n",
              "    fill: var(--fill-color);\n",
              "    height: 32px;\n",
              "    padding: 0;\n",
              "    width: 32px;\n",
              "  }\n",
              "\n",
              "  .colab-df-quickchart:hover {\n",
              "    background-color: var(--hover-bg-color);\n",
              "    box-shadow: 0 1px 2px rgba(60, 64, 67, 0.3), 0 1px 3px 1px rgba(60, 64, 67, 0.15);\n",
              "    fill: var(--button-hover-fill-color);\n",
              "  }\n",
              "\n",
              "  .colab-df-quickchart-complete:disabled,\n",
              "  .colab-df-quickchart-complete:disabled:hover {\n",
              "    background-color: var(--disabled-bg-color);\n",
              "    fill: var(--disabled-fill-color);\n",
              "    box-shadow: none;\n",
              "  }\n",
              "\n",
              "  .colab-df-spinner {\n",
              "    border: 2px solid var(--fill-color);\n",
              "    border-color: transparent;\n",
              "    border-bottom-color: var(--fill-color);\n",
              "    animation:\n",
              "      spin 1s steps(1) infinite;\n",
              "  }\n",
              "\n",
              "  @keyframes spin {\n",
              "    0% {\n",
              "      border-color: transparent;\n",
              "      border-bottom-color: var(--fill-color);\n",
              "      border-left-color: var(--fill-color);\n",
              "    }\n",
              "    20% {\n",
              "      border-color: transparent;\n",
              "      border-left-color: var(--fill-color);\n",
              "      border-top-color: var(--fill-color);\n",
              "    }\n",
              "    30% {\n",
              "      border-color: transparent;\n",
              "      border-left-color: var(--fill-color);\n",
              "      border-top-color: var(--fill-color);\n",
              "      border-right-color: var(--fill-color);\n",
              "    }\n",
              "    40% {\n",
              "      border-color: transparent;\n",
              "      border-right-color: var(--fill-color);\n",
              "      border-top-color: var(--fill-color);\n",
              "    }\n",
              "    60% {\n",
              "      border-color: transparent;\n",
              "      border-right-color: var(--fill-color);\n",
              "    }\n",
              "    80% {\n",
              "      border-color: transparent;\n",
              "      border-right-color: var(--fill-color);\n",
              "      border-bottom-color: var(--fill-color);\n",
              "    }\n",
              "    90% {\n",
              "      border-color: transparent;\n",
              "      border-bottom-color: var(--fill-color);\n",
              "    }\n",
              "  }\n",
              "</style>\n",
              "\n",
              "  <script>\n",
              "    async function quickchart(key) {\n",
              "      const quickchartButtonEl =\n",
              "        document.querySelector('#' + key + ' button');\n",
              "      quickchartButtonEl.disabled = true;  // To prevent multiple clicks.\n",
              "      quickchartButtonEl.classList.add('colab-df-spinner');\n",
              "      try {\n",
              "        const charts = await google.colab.kernel.invokeFunction(\n",
              "            'suggestCharts', [key], {});\n",
              "      } catch (error) {\n",
              "        console.error('Error during call to suggestCharts:', error);\n",
              "      }\n",
              "      quickchartButtonEl.classList.remove('colab-df-spinner');\n",
              "      quickchartButtonEl.classList.add('colab-df-quickchart-complete');\n",
              "    }\n",
              "    (() => {\n",
              "      let quickchartButtonEl =\n",
              "        document.querySelector('#df-22aea191-4f71-4b18-82e5-899d5c042312 button');\n",
              "      quickchartButtonEl.style.display =\n",
              "        google.colab.kernel.accessAllowed ? 'block' : 'none';\n",
              "    })();\n",
              "  </script>\n",
              "</div>\n",
              "\n",
              "    </div>\n",
              "  </div>\n"
            ],
            "application/vnd.google.colaboratory.intrinsic+json": {
              "type": "dataframe",
              "variable_name": "df"
            }
          },
          "metadata": {},
          "execution_count": 105
        }
      ]
    },
    {
      "cell_type": "code",
      "source": [
        "df_interquantile = remove_outliers(df, 'Reviews_Count')"
      ],
      "metadata": {
        "colab": {
          "base_uri": "https://localhost:8080/",
          "height": 0
        },
        "id": "1kQnNfLl7JBL",
        "outputId": "936bc7cf-9be6-47b0-fe52-e59deceebf29"
      },
      "execution_count": 106,
      "outputs": [
        {
          "output_type": "stream",
          "name": "stdout",
          "text": [
            "Lower Bound is -1103.5\n",
            "Upper Bound is 2300.5\n"
          ]
        },
        {
          "output_type": "display_data",
          "data": {
            "text/plain": [
              "<Figure size 640x480 with 1 Axes>"
            ],
            "image/png": "[encoded data removed]"
          },
          "metadata": {}
        },
        {
          "output_type": "stream",
          "name": "stdout",
          "text": [
            "Reviews_Count after removing outlier:\n",
            "count    148012.000000\n",
            "mean        625.026619\n",
            "std         601.941097\n",
            "min           1.000000\n",
            "25%         163.000000\n",
            "50%         402.000000\n",
            "75%         883.000000\n",
            "max        2267.000000\n",
            "Name: Reviews_Count, dtype: float64\n"
          ]
        }
      ]
    },
    {
      "cell_type": "code",
      "source": [
        "price_range = ['Mid price', 'Low price', 'Low-Mid price', 'High-end price', 'Higher-mid price']\n",
        "\n",
        "plot_price_range_histograms(df_interquantile, \"Reviews_Count\", price_range)"
      ],
      "metadata": {
        "colab": {
          "base_uri": "https://localhost:8080/",
          "height": 0
        },
        "id": "_j4662Je7V0T",
        "outputId": "03cf9cc5-c000-41b5-cad3-90c4a8ce33bc"
      },
      "execution_count": 107,
      "outputs": [
        {
          "output_type": "display_data",
          "data": {
            "text/plain": [
              "<Figure size 1500x600 with 5 Axes>"
            ],
            "image/png": "[encoded data removed]"
          },
          "metadata": {}
        }
      ]
    },
    {
      "cell_type": "code",
      "source": [
        "#we can see that the distribution is skewed. We will perform log10() transformation\n",
        "df_interquantile['Reviews_Count_log10'] = np.log10(df['Reviews_Count'])\n",
        "\n",
        "plot_price_range_histograms(df_interquantile, \"Reviews_Count_log10\", price_range)"
      ],
      "metadata": {
        "colab": {
          "base_uri": "https://localhost:8080/",
          "height": 0
        },
        "id": "SkDfGSom7qsx",
        "outputId": "b6e49114-c558-4307-fc8f-ad27cf308a52"
      },
      "execution_count": 108,
      "outputs": [
        {
          "output_type": "stream",
          "name": "stderr",
          "text": [
            "<ipython-input-108-5e12031ce064>:2: SettingWithCopyWarning: \n",
            "A value is trying to be set on a copy of a slice from a DataFrame.\n",
            "Try using .loc[row_indexer,col_indexer] = value instead\n",
            "\n",
            "See the caveats in the documentation: https://pandas.pydata.org/pandas-docs/stable/user_guide/indexing.html#returning-a-view-versus-a-copy\n",
            "  df_interquantile['Reviews_Count_log10'] = np.log10(df['Reviews_Count'])\n"
          ]
        },
        {
          "output_type": "display_data",
          "data": {
            "text/plain": [
              "<Figure size 1500x600 with 5 Axes>"
            ],
            "image/png": "[encoded data removed]"
          },
          "metadata": {}
        }
      ]
    },
    {
      "cell_type": "code",
      "source": [
        "perform_pairwise_ttests(df_interquantile, \"Reviews_Count_log10\", \"Price Ranges\")"
      ],
      "metadata": {
        "colab": {
          "base_uri": "https://localhost:8080/"
        },
        "id": "S_sFQZbl8NHK",
        "outputId": "7e0da2c1-4e15-4c0d-bf14-4db3ebd8c53d"
      },
      "execution_count": 109,
      "outputs": [
        {
          "output_type": "stream",
          "name": "stdout",
          "text": [
            "T-test results for Low price vs Low-Mid price:\n",
            "Test statistic: -6.218104714494628, p-value: 0.000000000506312\n",
            "The difference is statistically significant.\n",
            "\n",
            "T-test results for Low price vs Mid price:\n",
            "Test statistic: -25.725319835207532, p-value: 0.000000000000000\n",
            "The difference is statistically significant.\n",
            "\n",
            "T-test results for Low price vs Higher-mid price:\n",
            "Test statistic: 57.949136179175241, p-value: 0.000000000000000\n",
            "The difference is statistically significant.\n",
            "\n",
            "T-test results for Low price vs High-end price:\n",
            "Test statistic: 67.824659770098961, p-value: 0.000000000000000\n",
            "The difference is statistically significant.\n",
            "\n",
            "T-test results for Low-Mid price vs Mid price:\n",
            "Test statistic: -18.731992382895360, p-value: 0.000000000000000\n",
            "The difference is statistically significant.\n",
            "\n",
            "T-test results for Low-Mid price vs Higher-mid price:\n",
            "Test statistic: 63.386720591482550, p-value: 0.000000000000000\n",
            "The difference is statistically significant.\n",
            "\n",
            "T-test results for Low-Mid price vs High-end price:\n",
            "Test statistic: 67.021421792502537, p-value: 0.000000000000000\n",
            "The difference is statistically significant.\n",
            "\n",
            "T-test results for Mid price vs Higher-mid price:\n",
            "Test statistic: 84.296914237101859, p-value: 0.000000000000000\n",
            "The difference is statistically significant.\n",
            "\n",
            "T-test results for Mid price vs High-end price:\n",
            "Test statistic: 76.689103762738029, p-value: 0.000000000000000\n",
            "The difference is statistically significant.\n",
            "\n",
            "T-test results for Higher-mid price vs High-end price:\n",
            "Test statistic: 42.660390792178504, p-value: 0.000000000000000\n",
            "The difference is statistically significant.\n",
            "\n"
          ]
        }
      ]
    },
    {
      "cell_type": "markdown",
      "source": [
        "### **b) T-Test for Review Length and Price Range**"
      ],
      "metadata": {
        "id": "rEoagZmQ-Pic"
      }
    },
    {
      "cell_type": "markdown",
      "source": [
        "#### Data Transformation"
      ],
      "metadata": {
        "id": "o4STTttN5heB"
      }
    },
    {
      "cell_type": "code",
      "source": [
        "df_interquantile = remove_outliers(df, 'Review Length')"
      ],
      "metadata": {
        "colab": {
          "base_uri": "https://localhost:8080/",
          "height": 0
        },
        "id": "BhVpOMVT3lSG",
        "outputId": "72f7f259-39d5-4b36-b3cf-911d1b3dafc7"
      },
      "execution_count": 110,
      "outputs": [
        {
          "output_type": "stream",
          "name": "stdout",
          "text": [
            "Lower Bound is -282.5\n",
            "Upper Bound is 625.5\n"
          ]
        },
        {
          "output_type": "display_data",
          "data": {
            "text/plain": [
              "<Figure size 640x480 with 1 Axes>"
            ],
            "image/png": "[encoded data removed]"
          },
          "metadata": {}
        },
        {
          "output_type": "stream",
          "name": "stdout",
          "text": [
            "Review Length after removing outlier:\n",
            "count    141002.000000\n",
            "mean        159.828953\n",
            "std         138.760800\n",
            "min           1.000000\n",
            "25%          52.000000\n",
            "50%         119.000000\n",
            "75%         222.000000\n",
            "max         625.000000\n",
            "Name: Review Length, dtype: float64\n"
          ]
        }
      ]
    },
    {
      "cell_type": "markdown",
      "source": [
        "**Normal Distribution Assumption**"
      ],
      "metadata": {
        "id": "YXeGGsppOoNi"
      }
    },
    {
      "cell_type": "code",
      "source": [
        "price_range = ['Mid price', 'Low price', 'Low-Mid price', 'High-end price', 'Higher-mid price']\n",
        "\n",
        "plot_price_range_histograms(df_interquantile, 'Review Length', price_range)"
      ],
      "metadata": {
        "colab": {
          "base_uri": "https://localhost:8080/",
          "height": 0
        },
        "id": "q3FJA9m2C_lT",
        "outputId": "11d7570a-5817-46c1-a066-5e5e562bb8e3"
      },
      "execution_count": 111,
      "outputs": [
        {
          "output_type": "display_data",
          "data": {
            "text/plain": [
              "<Figure size 1500x600 with 5 Axes>"
            ],
            "image/png": "[encoded data removed]"
          },
          "metadata": {}
        }
      ]
    },
    {
      "cell_type": "code",
      "source": [
        "#we can see that the distribution is skewed. We will perform log10() transformation\n",
        "df_interquantile['Review Length log10'] = df_interquantile['Review Length'].apply(lambda x: 0 if x== 0 else np.log10(x))"
      ],
      "metadata": {
        "id": "tWNGeuseKBLw",
        "colab": {
          "base_uri": "https://localhost:8080/"
        },
        "outputId": "e2d1c62d-3302-48bc-f407-7d2a046a7a51"
      },
      "execution_count": 112,
      "outputs": [
        {
          "output_type": "stream",
          "name": "stderr",
          "text": [
            "<ipython-input-112-2fe7be4cc802>:2: SettingWithCopyWarning: \n",
            "A value is trying to be set on a copy of a slice from a DataFrame.\n",
            "Try using .loc[row_indexer,col_indexer] = value instead\n",
            "\n",
            "See the caveats in the documentation: https://pandas.pydata.org/pandas-docs/stable/user_guide/indexing.html#returning-a-view-versus-a-copy\n",
            "  df_interquantile['Review Length log10'] = df_interquantile['Review Length'].apply(lambda x: 0 if x== 0 else np.log10(x))\n"
          ]
        }
      ]
    },
    {
      "cell_type": "code",
      "source": [
        "price_range = ['Mid price', 'Low price', 'Low-Mid price', 'High-end price', 'Higher-mid price']\n",
        "\n",
        "plot_price_range_histograms(df_interquantile, 'Review Length log10', price_range)"
      ],
      "metadata": {
        "colab": {
          "base_uri": "https://localhost:8080/",
          "height": 0
        },
        "id": "NfkEsc-NKxdv",
        "outputId": "dd7cba17-02aa-4692-e66b-6908169ef6dd"
      },
      "execution_count": 113,
      "outputs": [
        {
          "output_type": "display_data",
          "data": {
            "text/plain": [
              "<Figure size 1500x600 with 5 Axes>"
            ],
            "image/png": "[encoded data removed]"
          },
          "metadata": {}
        }
      ]
    },
    {
      "cell_type": "markdown",
      "source": [
        "#### T-test"
      ],
      "metadata": {
        "id": "QphgCeQ1gmuT"
      }
    },
    {
      "cell_type": "code",
      "source": [
        "perform_pairwise_ttests(df_interquantile, \"Review Length\", 'Price Ranges')"
      ],
      "metadata": {
        "colab": {
          "base_uri": "https://localhost:8080/"
        },
        "id": "qWxCxVMhYn-c",
        "outputId": "143b6a1b-69dd-43fd-8c86-0c065e1e498d"
      },
      "execution_count": 114,
      "outputs": [
        {
          "output_type": "stream",
          "name": "stdout",
          "text": [
            "T-test results for Low price vs Low-Mid price:\n",
            "Test statistic: -7.353186933773003, p-value: 0.000000000000196\n",
            "The difference is statistically significant.\n",
            "\n",
            "T-test results for Low price vs Mid price:\n",
            "Test statistic: -4.553211449356636, p-value: 0.000005291881443\n",
            "The difference is statistically significant.\n",
            "\n",
            "T-test results for Low price vs Higher-mid price:\n",
            "Test statistic: 8.462425468678356, p-value: 0.000000000000000\n",
            "The difference is statistically significant.\n",
            "\n",
            "T-test results for Low price vs High-end price:\n",
            "Test statistic: 3.666868595871430, p-value: 0.000245903780056\n",
            "The difference is statistically significant.\n",
            "\n",
            "T-test results for Low-Mid price vs Mid price:\n",
            "Test statistic: 3.686991232301525, p-value: 0.000227097190975\n",
            "The difference is statistically significant.\n",
            "\n",
            "T-test results for Low-Mid price vs Higher-mid price:\n",
            "Test statistic: 13.913009042898139, p-value: 0.000000000000000\n",
            "The difference is statistically significant.\n",
            "\n",
            "T-test results for Low-Mid price vs High-end price:\n",
            "Test statistic: 5.589656672357193, p-value: 0.000000022925565\n",
            "The difference is statistically significant.\n",
            "\n",
            "T-test results for Mid price vs Higher-mid price:\n",
            "Test statistic: 12.180111207234985, p-value: 0.000000000000000\n",
            "The difference is statistically significant.\n",
            "\n",
            "T-test results for Mid price vs High-end price:\n",
            "Test statistic: 4.642582299943105, p-value: 0.000003448063416\n",
            "The difference is statistically significant.\n",
            "\n",
            "T-test results for Higher-mid price vs High-end price:\n",
            "Test statistic: 0.517875513449862, p-value: 0.604552240647801\n",
            "The difference is not statistically significant.\n",
            "\n"
          ]
        }
      ]
    },
    {
      "cell_type": "markdown",
      "source": [
        "Conclusions: 0 p-value --> no co-incidence between 2 groups. Mean difference gradually increase by price range."
      ],
      "metadata": {
        "id": "UNTIgYYIPYTZ"
      }
    },
    {
      "cell_type": "code",
      "source": [
        "#get the mean number of reviews of all price ranges\n",
        "df_interquantile.groupby('Price Ranges').agg({'Review Length':'mean'})"
      ],
      "metadata": {
        "colab": {
          "base_uri": "https://localhost:8080/",
          "height": 0
        },
        "id": "nFTgX0DF0o-8",
        "outputId": "7c785274-f7a1-4de3-e2ca-3183ec55ab5a"
      },
      "execution_count": 115,
      "outputs": [
        {
          "output_type": "execute_result",
          "data": {
            "text/plain": [
              "                  Review Length\n",
              "Price Ranges                   \n",
              "High-end price       144.258065\n",
              "Higher-mid price     146.245607\n",
              "Low price            157.555792\n",
              "Low-Mid price        165.372349\n",
              "Mid price            161.810162"
            ],
            "text/html": [
              "\n",
              "  <div id=\"df-a97e4fa1-5ca8-43a7-ba2d-3d3f3f89378c\" class=\"colab-df-container\">\n",
              "    <div>\n",
              "<style scoped>\n",
              "    .dataframe tbody tr th:only-of-type {\n",
              "        vertical-align: middle;\n",
              "    }\n",
              "\n",
              "    .dataframe tbody tr th {\n",
              "        vertical-align: top;\n",
              "    }\n",
              "\n",
              "    .dataframe thead th {\n",
              "        text-align: right;\n",
              "    }\n",
              "</style>\n",
              "<table border=\"1\" class=\"dataframe\">\n",
              "  <thead>\n",
              "    <tr style=\"text-align: right;\">\n",
              "      <th></th>\n",
              "      <th>Review Length</th>\n",
              "    </tr>\n",
              "    <tr>\n",
              "      <th>Price Ranges</th>\n",
              "      <th></th>\n",
              "    </tr>\n",
              "  </thead>\n",
              "  <tbody>\n",
              "    <tr>\n",
              "      <th>High-end price</th>\n",
              "      <td>144.258065</td>\n",
              "    </tr>\n",
              "    <tr>\n",
              "      <th>Higher-mid price</th>\n",
              "      <td>146.245607</td>\n",
              "    </tr>\n",
              "    <tr>\n",
              "      <th>Low price</th>\n",
              "      <td>157.555792</td>\n",
              "    </tr>\n",
              "    <tr>\n",
              "      <th>Low-Mid price</th>\n",
              "      <td>165.372349</td>\n",
              "    </tr>\n",
              "    <tr>\n",
              "      <th>Mid price</th>\n",
              "      <td>161.810162</td>\n",
              "    </tr>\n",
              "  </tbody>\n",
              "</table>\n",
              "</div>\n",
              "    <div class=\"colab-df-buttons\">\n",
              "\n",
              "  <div class=\"colab-df-container\">\n",
              "    <button class=\"colab-df-convert\" onclick=\"convertToInteractive('df-a97e4fa1-5ca8-43a7-ba2d-3d3f3f89378c')\"\n",
              "            title=\"Convert this dataframe to an interactive table.\"\n",
              "            style=\"display:none;\">\n",
              "\n",
              "  <svg xmlns=\"http://www.w3.org/2000/svg\" height=\"24px\" viewBox=\"0 -960 960 960\">\n",
              "    <path d=\"M120-120v-720h720v720H120Zm60-500h600v-160H180v160Zm220 220h160v-160H400v160Zm0 220h160v-160H400v160ZM180-400h160v-160H180v160Zm440 0h160v-160H620v160ZM180-180h160v-160H180v160Zm440 0h160v-160H620v160Z\"/>\n",
              "  </svg>\n",
              "    </button>\n",
              "\n",
              "  <style>\n",
              "    .colab-df-container {\n",
              "      display:flex;\n",
              "      gap: 12px;\n",
              "    }\n",
              "\n",
              "    .colab-df-convert {\n",
              "      background-color: #E8F0FE;\n",
              "      border: none;\n",
              "      border-radius: 50%;\n",
              "      cursor: pointer;\n",
              "      display: none;\n",
              "      fill: #1967D2;\n",
              "      height: 32px;\n",
              "      padding: 0 0 0 0;\n",
              "      width: 32px;\n",
              "    }\n",
              "\n",
              "    .colab-df-convert:hover {\n",
              "      background-color: #E2EBFA;\n",
              "      box-shadow: 0px 1px 2px rgba(60, 64, 67, 0.3), 0px 1px 3px 1px rgba(60, 64, 67, 0.15);\n",
              "      fill: #174EA6;\n",
              "    }\n",
              "\n",
              "    .colab-df-buttons div {\n",
              "      margin-bottom: 4px;\n",
              "    }\n",
              "\n",
              "    [theme=dark] .colab-df-convert {\n",
              "      background-color: #3B4455;\n",
              "      fill: #D2E3FC;\n",
              "    }\n",
              "\n",
              "    [theme=dark] .colab-df-convert:hover {\n",
              "      background-color: #434B5C;\n",
              "      box-shadow: 0px 1px 3px 1px rgba(0, 0, 0, 0.15);\n",
              "      filter: drop-shadow(0px 1px 2px rgba(0, 0, 0, 0.3));\n",
              "      fill: #FFFFFF;\n",
              "    }\n",
              "  </style>\n",
              "\n",
              "    <script>\n",
              "      const buttonEl =\n",
              "        document.querySelector('#df-a97e4fa1-5ca8-43a7-ba2d-3d3f3f89378c button.colab-df-convert');\n",
              "      buttonEl.style.display =\n",
              "        google.colab.kernel.accessAllowed ? 'block' : 'none';\n",
              "\n",
              "      async function convertToInteractive(key) {\n",
              "        const element = document.querySelector('#df-a97e4fa1-5ca8-43a7-ba2d-3d3f3f89378c');\n",
              "        const dataTable =\n",
              "          await google.colab.kernel.invokeFunction('convertToInteractive',\n",
              "                                                    [key], {});\n",
              "        if (!dataTable) return;\n",
              "\n",
              "        const docLinkHtml = 'Like what you see? Visit the ' +\n",
              "          '<a target=\"_blank\" href=https://colab.research.google.com/notebooks/data_table.ipynb>data table notebook</a>'\n",
              "          + ' to learn more about interactive tables.';\n",
              "        element.innerHTML = '';\n",
              "        dataTable['output_type'] = 'display_data';\n",
              "        await google.colab.output.renderOutput(dataTable, element);\n",
              "        const docLink = document.createElement('div');\n",
              "        docLink.innerHTML = docLinkHtml;\n",
              "        element.appendChild(docLink);\n",
              "      }\n",
              "    </script>\n",
              "  </div>\n",
              "\n",
              "\n",
              "<div id=\"df-cb8d608d-63ea-43c9-8155-65ab54111d61\">\n",
              "  <button class=\"colab-df-quickchart\" onclick=\"quickchart('df-cb8d608d-63ea-43c9-8155-65ab54111d61')\"\n",
              "            title=\"Suggest charts\"\n",
              "            style=\"display:none;\">\n",
              "\n",
              "<svg xmlns=\"http://www.w3.org/2000/svg\" height=\"24px\"viewBox=\"0 0 24 24\"\n",
              "     width=\"24px\">\n",
              "    <g>\n",
              "        <path d=\"M19 3H5c-1.1 0-2 .9-2 2v14c0 1.1.9 2 2 2h14c1.1 0 2-.9 2-2V5c0-1.1-.9-2-2-2zM9 17H7v-7h2v7zm4 0h-2V7h2v10zm4 0h-2v-4h2v4z\"/>\n",
              "    </g>\n",
              "</svg>\n",
              "  </button>\n",
              "\n",
              "<style>\n",
              "  .colab-df-quickchart {\n",
              "      --bg-color: #E8F0FE;\n",
              "      --fill-color: #1967D2;\n",
              "      --hover-bg-color: #E2EBFA;\n",
              "      --hover-fill-color: #174EA6;\n",
              "      --disabled-fill-color: #AAA;\n",
              "      --disabled-bg-color: #DDD;\n",
              "  }\n",
              "\n",
              "  [theme=dark] .colab-df-quickchart {\n",
              "      --bg-color: #3B4455;\n",
              "      --fill-color: #D2E3FC;\n",
              "      --hover-bg-color: #434B5C;\n",
              "      --hover-fill-color: #FFFFFF;\n",
              "      --disabled-bg-color: #3B4455;\n",
              "      --disabled-fill-color: #666;\n",
              "  }\n",
              "\n",
              "  .colab-df-quickchart {\n",
              "    background-color: var(--bg-color);\n",
              "    border: none;\n",
              "    border-radius: 50%;\n",
              "    cursor: pointer;\n",
              "    display: none;\n",
              "    fill: var(--fill-color);\n",
              "    height: 32px;\n",
              "    padding: 0;\n",
              "    width: 32px;\n",
              "  }\n",
              "\n",
              "  .colab-df-quickchart:hover {\n",
              "    background-color: var(--hover-bg-color);\n",
              "    box-shadow: 0 1px 2px rgba(60, 64, 67, 0.3), 0 1px 3px 1px rgba(60, 64, 67, 0.15);\n",
              "    fill: var(--button-hover-fill-color);\n",
              "  }\n",
              "\n",
              "  .colab-df-quickchart-complete:disabled,\n",
              "  .colab-df-quickchart-complete:disabled:hover {\n",
              "    background-color: var(--disabled-bg-color);\n",
              "    fill: var(--disabled-fill-color);\n",
              "    box-shadow: none;\n",
              "  }\n",
              "\n",
              "  .colab-df-spinner {\n",
              "    border: 2px solid var(--fill-color);\n",
              "    border-color: transparent;\n",
              "    border-bottom-color: var(--fill-color);\n",
              "    animation:\n",
              "      spin 1s steps(1) infinite;\n",
              "  }\n",
              "\n",
              "  @keyframes spin {\n",
              "    0% {\n",
              "      border-color: transparent;\n",
              "      border-bottom-color: var(--fill-color);\n",
              "      border-left-color: var(--fill-color);\n",
              "    }\n",
              "    20% {\n",
              "      border-color: transparent;\n",
              "      border-left-color: var(--fill-color);\n",
              "      border-top-color: var(--fill-color);\n",
              "    }\n",
              "    30% {\n",
              "      border-color: transparent;\n",
              "      border-left-color: var(--fill-color);\n",
              "      border-top-color: var(--fill-color);\n",
              "      border-right-color: var(--fill-color);\n",
              "    }\n",
              "    40% {\n",
              "      border-color: transparent;\n",
              "      border-right-color: var(--fill-color);\n",
              "      border-top-color: var(--fill-color);\n",
              "    }\n",
              "    60% {\n",
              "      border-color: transparent;\n",
              "      border-right-color: var(--fill-color);\n",
              "    }\n",
              "    80% {\n",
              "      border-color: transparent;\n",
              "      border-right-color: var(--fill-color);\n",
              "      border-bottom-color: var(--fill-color);\n",
              "    }\n",
              "    90% {\n",
              "      border-color: transparent;\n",
              "      border-bottom-color: var(--fill-color);\n",
              "    }\n",
              "  }\n",
              "</style>\n",
              "\n",
              "  <script>\n",
              "    async function quickchart(key) {\n",
              "      const quickchartButtonEl =\n",
              "        document.querySelector('#' + key + ' button');\n",
              "      quickchartButtonEl.disabled = true;  // To prevent multiple clicks.\n",
              "      quickchartButtonEl.classList.add('colab-df-spinner');\n",
              "      try {\n",
              "        const charts = await google.colab.kernel.invokeFunction(\n",
              "            'suggestCharts', [key], {});\n",
              "      } catch (error) {\n",
              "        console.error('Error during call to suggestCharts:', error);\n",
              "      }\n",
              "      quickchartButtonEl.classList.remove('colab-df-spinner');\n",
              "      quickchartButtonEl.classList.add('colab-df-quickchart-complete');\n",
              "    }\n",
              "    (() => {\n",
              "      let quickchartButtonEl =\n",
              "        document.querySelector('#df-cb8d608d-63ea-43c9-8155-65ab54111d61 button');\n",
              "      quickchartButtonEl.style.display =\n",
              "        google.colab.kernel.accessAllowed ? 'block' : 'none';\n",
              "    })();\n",
              "  </script>\n",
              "</div>\n",
              "\n",
              "    </div>\n",
              "  </div>\n"
            ],
            "application/vnd.google.colaboratory.intrinsic+json": {
              "type": "dataframe",
              "summary": "{\n  \"name\": \"df_interquantile\",\n  \"rows\": 5,\n  \"fields\": [\n    {\n      \"column\": \"Price Ranges\",\n      \"properties\": {\n        \"dtype\": \"string\",\n        \"num_unique_values\": 5,\n        \"samples\": [\n          \"Higher-mid price\",\n          \"Mid price\",\n          \"Low price\"\n        ],\n        \"semantic_type\": \"\",\n        \"description\": \"\"\n      }\n    },\n    {\n      \"column\": \"Review Length\",\n      \"properties\": {\n        \"dtype\": \"number\",\n        \"std\": 9.387663093848058,\n        \"min\": 144.25806451612902,\n        \"max\": 165.37234921509227,\n        \"num_unique_values\": 5,\n        \"samples\": [\n          146.24560686554966,\n          161.81016211067072,\n          157.55579155199234\n        ],\n        \"semantic_type\": \"\",\n        \"description\": \"\"\n      }\n    }\n  ]\n}"
            }
          },
          "metadata": {},
          "execution_count": 115
        }
      ]
    },
    {
      "cell_type": "markdown",
      "source": [
        "### **c) T-test for Price Range and Rating**"
      ],
      "metadata": {
        "id": "FdPnwKcthB3C"
      }
    },
    {
      "cell_type": "markdown",
      "source": [
        "#### Data Transformation"
      ],
      "metadata": {
        "id": "X4yk8cI8fo1D"
      }
    },
    {
      "cell_type": "code",
      "source": [
        "df_interquantile = remove_outliers(df, 'Rating')"
      ],
      "metadata": {
        "id": "42E4A-6ohBPn",
        "colab": {
          "base_uri": "https://localhost:8080/",
          "height": 0
        },
        "outputId": "8e0078cb-91a3-4879-e381-56dc378bc434"
      },
      "execution_count": 116,
      "outputs": [
        {
          "output_type": "stream",
          "name": "stdout",
          "text": [
            "Lower Bound is -2.5\n",
            "Upper Bound is 9.5\n"
          ]
        },
        {
          "output_type": "display_data",
          "data": {
            "text/plain": [
              "<Figure size 640x480 with 1 Axes>"
            ],
            "image/png": "[encoded data removed]"
          },
          "metadata": {}
        },
        {
          "output_type": "stream",
          "name": "stdout",
          "text": [
            "Rating after removing outlier:\n",
            "count    155810.000000\n",
            "mean          3.632899\n",
            "std           1.598430\n",
            "min           1.000000\n",
            "25%           2.000000\n",
            "50%           4.000000\n",
            "75%           5.000000\n",
            "max           5.000000\n",
            "Name: Rating, dtype: float64\n"
          ]
        }
      ]
    },
    {
      "cell_type": "code",
      "source": [
        "plot_price_range_histograms(df_interquantile, 'Rating', price_range)"
      ],
      "metadata": {
        "colab": {
          "base_uri": "https://localhost:8080/",
          "height": 0
        },
        "id": "eMdE8Fk7-VLz",
        "outputId": "9896f801-b268-4d7a-d18f-5ffcb9abe14a"
      },
      "execution_count": 117,
      "outputs": [
        {
          "output_type": "display_data",
          "data": {
            "text/plain": [
              "<Figure size 1500x600 with 5 Axes>"
            ],
            "image/png": "[encoded data removed]"
          },
          "metadata": {}
        }
      ]
    },
    {
      "cell_type": "code",
      "source": [
        "#df_interquantile['Rating_sqrt'] =n p.sqrt(df['column'])"
      ],
      "metadata": {
        "id": "zP_vZiGhfBQt"
      },
      "execution_count": 118,
      "outputs": []
    },
    {
      "cell_type": "markdown",
      "source": [
        "###  **d) T-test for Sentiment Score by different Price Range**"
      ],
      "metadata": {
        "id": "sknX5JQ6gQlO"
      }
    },
    {
      "cell_type": "markdown",
      "source": [
        "#### a) Data Transformation"
      ],
      "metadata": {
        "id": "Af5w8w40g8ml"
      }
    },
    {
      "cell_type": "code",
      "source": [
        "df_interquantile = remove_outliers(df, 'sentimentScore')"
      ],
      "metadata": {
        "id": "jCbGaXpigUM9",
        "colab": {
          "base_uri": "https://localhost:8080/",
          "height": 0
        },
        "outputId": "ede5aac7-fde5-49ed-fd85-12518a9ec23b"
      },
      "execution_count": 119,
      "outputs": [
        {
          "output_type": "stream",
          "name": "stdout",
          "text": [
            "Lower Bound is -0.7216030844155843\n",
            "Upper Bound is 1.2026718073593072\n"
          ]
        },
        {
          "output_type": "display_data",
          "data": {
            "text/plain": [
              "<Figure size 640x480 with 1 Axes>"
            ],
            "image/png": "[encoded data removed]"
          },
          "metadata": {}
        },
        {
          "output_type": "stream",
          "name": "stdout",
          "text": [
            "sentimentScore after removing outlier:\n",
            "count    154617.000000\n",
            "mean          0.266806\n",
            "std           0.324835\n",
            "min          -0.716667\n",
            "25%           0.000000\n",
            "50%           0.233917\n",
            "75%           0.484167\n",
            "max           1.000000\n",
            "Name: sentimentScore, dtype: float64\n"
          ]
        }
      ]
    },
    {
      "cell_type": "code",
      "source": [
        "price_range = ['Mid price', 'Low price', 'Low-Mid price', 'High-end price', 'Higher-mid price']\n",
        "\n",
        "plot_price_range_histograms(df_interquantile, \"sentimentScore\", price_range)"
      ],
      "metadata": {
        "id": "Vj0iuin3gqhU",
        "colab": {
          "base_uri": "https://localhost:8080/",
          "height": 0
        },
        "outputId": "20896c51-82e9-4bd8-8c8b-364b8c10f44c"
      },
      "execution_count": 120,
      "outputs": [
        {
          "output_type": "display_data",
          "data": {
            "text/plain": [
              "<Figure size 1500x600 with 5 Axes>"
            ],
            "image/png": "[encoded data removed]"
          },
          "metadata": {}
        }
      ]
    },
    {
      "cell_type": "markdown",
      "source": [
        "#### b) T-test"
      ],
      "metadata": {
        "id": "dX5w5uZ6iVqK"
      }
    },
    {
      "cell_type": "code",
      "source": [
        "perform_pairwise_ttests(df_interquantile, \"sentimentScore\", \"Price Ranges\")"
      ],
      "metadata": {
        "id": "YKoIEop5hEwt",
        "colab": {
          "base_uri": "https://localhost:8080/"
        },
        "outputId": "1fa89cda-e827-4b42-f361-a0406e76cfbd"
      },
      "execution_count": 121,
      "outputs": [
        {
          "output_type": "stream",
          "name": "stdout",
          "text": [
            "T-test results for Low price vs Low-Mid price:\n",
            "Test statistic: -6.087225585566549, p-value: 0.000000001154657\n",
            "The difference is statistically significant.\n",
            "\n",
            "T-test results for Low price vs Mid price:\n",
            "Test statistic: -17.233373220820926, p-value: 0.000000000000000\n",
            "The difference is statistically significant.\n",
            "\n",
            "T-test results for Low price vs Higher-mid price:\n",
            "Test statistic: -23.844502634531448, p-value: 0.000000000000000\n",
            "The difference is statistically significant.\n",
            "\n",
            "T-test results for Low price vs High-end price:\n",
            "Test statistic: -5.862522217103516, p-value: 0.000000005464199\n",
            "The difference is statistically significant.\n",
            "\n",
            "T-test results for Low-Mid price vs Mid price:\n",
            "Test statistic: -10.317543145010577, p-value: 0.000000000000000\n",
            "The difference is statistically significant.\n",
            "\n",
            "T-test results for Low-Mid price vs Higher-mid price:\n",
            "Test statistic: -19.192013049427757, p-value: 0.000000000000000\n",
            "The difference is statistically significant.\n",
            "\n",
            "T-test results for Low-Mid price vs High-end price:\n",
            "Test statistic: -4.193115442400105, p-value: 0.000028930051478\n",
            "The difference is statistically significant.\n",
            "\n",
            "T-test results for Mid price vs Higher-mid price:\n",
            "Test statistic: -13.137353865031452, p-value: 0.000000000000000\n",
            "The difference is statistically significant.\n",
            "\n",
            "T-test results for Mid price vs High-end price:\n",
            "Test statistic: -1.714662642302966, p-value: 0.086595510124956\n",
            "The difference is not statistically significant.\n",
            "\n",
            "T-test results for Higher-mid price vs High-end price:\n",
            "Test statistic: 2.660841509617504, p-value: 0.007801608912030\n",
            "The difference is statistically significant.\n",
            "\n"
          ]
        }
      ]
    },
    {
      "cell_type": "code",
      "source": [
        "df_interquantile.groupby('Price Ranges').agg({'sentimentScore':'mean'})"
      ],
      "metadata": {
        "id": "pO90toXyij8Q",
        "colab": {
          "base_uri": "https://localhost:8080/",
          "height": 0
        },
        "outputId": "beabcb7f-3e44-441d-9845-8bff7339c534"
      },
      "execution_count": 122,
      "outputs": [
        {
          "output_type": "execute_result",
          "data": {
            "text/plain": [
              "                  sentimentScore\n",
              "Price Ranges                    \n",
              "High-end price          0.291096\n",
              "Higher-mid price        0.314735\n",
              "Low price               0.239627\n",
              "Low-Mid price           0.254283\n",
              "Mid price               0.276171"
            ],
            "text/html": [
              "\n",
              "  <div id=\"df-6680aa88-f3e3-426d-92fc-653e252af524\" class=\"colab-df-container\">\n",
              "    <div>\n",
              "<style scoped>\n",
              "    .dataframe tbody tr th:only-of-type {\n",
              "        vertical-align: middle;\n",
              "    }\n",
              "\n",
              "    .dataframe tbody tr th {\n",
              "        vertical-align: top;\n",
              "    }\n",
              "\n",
              "    .dataframe thead th {\n",
              "        text-align: right;\n",
              "    }\n",
              "</style>\n",
              "<table border=\"1\" class=\"dataframe\">\n",
              "  <thead>\n",
              "    <tr style=\"text-align: right;\">\n",
              "      <th></th>\n",
              "      <th>sentimentScore</th>\n",
              "    </tr>\n",
              "    <tr>\n",
              "      <th>Price Ranges</th>\n",
              "      <th></th>\n",
              "    </tr>\n",
              "  </thead>\n",
              "  <tbody>\n",
              "    <tr>\n",
              "      <th>High-end price</th>\n",
              "      <td>0.291096</td>\n",
              "    </tr>\n",
              "    <tr>\n",
              "      <th>Higher-mid price</th>\n",
              "      <td>0.314735</td>\n",
              "    </tr>\n",
              "    <tr>\n",
              "      <th>Low price</th>\n",
              "      <td>0.239627</td>\n",
              "    </tr>\n",
              "    <tr>\n",
              "      <th>Low-Mid price</th>\n",
              "      <td>0.254283</td>\n",
              "    </tr>\n",
              "    <tr>\n",
              "      <th>Mid price</th>\n",
              "      <td>0.276171</td>\n",
              "    </tr>\n",
              "  </tbody>\n",
              "</table>\n",
              "</div>\n",
              "    <div class=\"colab-df-buttons\">\n",
              "\n",
              "  <div class=\"colab-df-container\">\n",
              "    <button class=\"colab-df-convert\" onclick=\"convertToInteractive('df-6680aa88-f3e3-426d-92fc-653e252af524')\"\n",
              "            title=\"Convert this dataframe to an interactive table.\"\n",
              "            style=\"display:none;\">\n",
              "\n",
              "  <svg xmlns=\"http://www.w3.org/2000/svg\" height=\"24px\" viewBox=\"0 -960 960 960\">\n",
              "    <path d=\"M120-120v-720h720v720H120Zm60-500h600v-160H180v160Zm220 220h160v-160H400v160Zm0 220h160v-160H400v160ZM180-400h160v-160H180v160Zm440 0h160v-160H620v160ZM180-180h160v-160H180v160Zm440 0h160v-160H620v160Z\"/>\n",
              "  </svg>\n",
              "    </button>\n",
              "\n",
              "  <style>\n",
              "    .colab-df-container {\n",
              "      display:flex;\n",
              "      gap: 12px;\n",
              "    }\n",
              "\n",
              "    .colab-df-convert {\n",
              "      background-color: #E8F0FE;\n",
              "      border: none;\n",
              "      border-radius: 50%;\n",
              "      cursor: pointer;\n",
              "      display: none;\n",
              "      fill: #1967D2;\n",
              "      height: 32px;\n",
              "      padding: 0 0 0 0;\n",
              "      width: 32px;\n",
              "    }\n",
              "\n",
              "    .colab-df-convert:hover {\n",
              "      background-color: #E2EBFA;\n",
              "      box-shadow: 0px 1px 2px rgba(60, 64, 67, 0.3), 0px 1px 3px 1px rgba(60, 64, 67, 0.15);\n",
              "      fill: #174EA6;\n",
              "    }\n",
              "\n",
              "    .colab-df-buttons div {\n",
              "      margin-bottom: 4px;\n",
              "    }\n",
              "\n",
              "    [theme=dark] .colab-df-convert {\n",
              "      background-color: #3B4455;\n",
              "      fill: #D2E3FC;\n",
              "    }\n",
              "\n",
              "    [theme=dark] .colab-df-convert:hover {\n",
              "      background-color: #434B5C;\n",
              "      box-shadow: 0px 1px 3px 1px rgba(0, 0, 0, 0.15);\n",
              "      filter: drop-shadow(0px 1px 2px rgba(0, 0, 0, 0.3));\n",
              "      fill: #FFFFFF;\n",
              "    }\n",
              "  </style>\n",
              "\n",
              "    <script>\n",
              "      const buttonEl =\n",
              "        document.querySelector('#df-6680aa88-f3e3-426d-92fc-653e252af524 button.colab-df-convert');\n",
              "      buttonEl.style.display =\n",
              "        google.colab.kernel.accessAllowed ? 'block' : 'none';\n",
              "\n",
              "      async function convertToInteractive(key) {\n",
              "        const element = document.querySelector('#df-6680aa88-f3e3-426d-92fc-653e252af524');\n",
              "        const dataTable =\n",
              "          await google.colab.kernel.invokeFunction('convertToInteractive',\n",
              "                                                    [key], {});\n",
              "        if (!dataTable) return;\n",
              "\n",
              "        const docLinkHtml = 'Like what you see? Visit the ' +\n",
              "          '<a target=\"_blank\" href=https://colab.research.google.com/notebooks/data_table.ipynb>data table notebook</a>'\n",
              "          + ' to learn more about interactive tables.';\n",
              "        element.innerHTML = '';\n",
              "        dataTable['output_type'] = 'display_data';\n",
              "        await google.colab.output.renderOutput(dataTable, element);\n",
              "        const docLink = document.createElement('div');\n",
              "        docLink.innerHTML = docLinkHtml;\n",
              "        element.appendChild(docLink);\n",
              "      }\n",
              "    </script>\n",
              "  </div>\n",
              "\n",
              "\n",
              "<div id=\"df-75c4a1a0-78a6-4293-8cd3-d1dcd0c493d8\">\n",
              "  <button class=\"colab-df-quickchart\" onclick=\"quickchart('df-75c4a1a0-78a6-4293-8cd3-d1dcd0c493d8')\"\n",
              "            title=\"Suggest charts\"\n",
              "            style=\"display:none;\">\n",
              "\n",
              "<svg xmlns=\"http://www.w3.org/2000/svg\" height=\"24px\"viewBox=\"0 0 24 24\"\n",
              "     width=\"24px\">\n",
              "    <g>\n",
              "        <path d=\"M19 3H5c-1.1 0-2 .9-2 2v14c0 1.1.9 2 2 2h14c1.1 0 2-.9 2-2V5c0-1.1-.9-2-2-2zM9 17H7v-7h2v7zm4 0h-2V7h2v10zm4 0h-2v-4h2v4z\"/>\n",
              "    </g>\n",
              "</svg>\n",
              "  </button>\n",
              "\n",
              "<style>\n",
              "  .colab-df-quickchart {\n",
              "      --bg-color: #E8F0FE;\n",
              "      --fill-color: #1967D2;\n",
              "      --hover-bg-color: #E2EBFA;\n",
              "      --hover-fill-color: #174EA6;\n",
              "      --disabled-fill-color: #AAA;\n",
              "      --disabled-bg-color: #DDD;\n",
              "  }\n",
              "\n",
              "  [theme=dark] .colab-df-quickchart {\n",
              "      --bg-color: #3B4455;\n",
              "      --fill-color: #D2E3FC;\n",
              "      --hover-bg-color: #434B5C;\n",
              "      --hover-fill-color: #FFFFFF;\n",
              "      --disabled-bg-color: #3B4455;\n",
              "      --disabled-fill-color: #666;\n",
              "  }\n",
              "\n",
              "  .colab-df-quickchart {\n",
              "    background-color: var(--bg-color);\n",
              "    border: none;\n",
              "    border-radius: 50%;\n",
              "    cursor: pointer;\n",
              "    display: none;\n",
              "    fill: var(--fill-color);\n",
              "    height: 32px;\n",
              "    padding: 0;\n",
              "    width: 32px;\n",
              "  }\n",
              "\n",
              "  .colab-df-quickchart:hover {\n",
              "    background-color: var(--hover-bg-color);\n",
              "    box-shadow: 0 1px 2px rgba(60, 64, 67, 0.3), 0 1px 3px 1px rgba(60, 64, 67, 0.15);\n",
              "    fill: var(--button-hover-fill-color);\n",
              "  }\n",
              "\n",
              "  .colab-df-quickchart-complete:disabled,\n",
              "  .colab-df-quickchart-complete:disabled:hover {\n",
              "    background-color: var(--disabled-bg-color);\n",
              "    fill: var(--disabled-fill-color);\n",
              "    box-shadow: none;\n",
              "  }\n",
              "\n",
              "  .colab-df-spinner {\n",
              "    border: 2px solid var(--fill-color);\n",
              "    border-color: transparent;\n",
              "    border-bottom-color: var(--fill-color);\n",
              "    animation:\n",
              "      spin 1s steps(1) infinite;\n",
              "  }\n",
              "\n",
              "  @keyframes spin {\n",
              "    0% {\n",
              "      border-color: transparent;\n",
              "      border-bottom-color: var(--fill-color);\n",
              "      border-left-color: var(--fill-color);\n",
              "    }\n",
              "    20% {\n",
              "      border-color: transparent;\n",
              "      border-left-color: var(--fill-color);\n",
              "      border-top-color: var(--fill-color);\n",
              "    }\n",
              "    30% {\n",
              "      border-color: transparent;\n",
              "      border-left-color: var(--fill-color);\n",
              "      border-top-color: var(--fill-color);\n",
              "      border-right-color: var(--fill-color);\n",
              "    }\n",
              "    40% {\n",
              "      border-color: transparent;\n",
              "      border-right-color: var(--fill-color);\n",
              "      border-top-color: var(--fill-color);\n",
              "    }\n",
              "    60% {\n",
              "      border-color: transparent;\n",
              "      border-right-color: var(--fill-color);\n",
              "    }\n",
              "    80% {\n",
              "      border-color: transparent;\n",
              "      border-right-color: var(--fill-color);\n",
              "      border-bottom-color: var(--fill-color);\n",
              "    }\n",
              "    90% {\n",
              "      border-color: transparent;\n",
              "      border-bottom-color: var(--fill-color);\n",
              "    }\n",
              "  }\n",
              "</style>\n",
              "\n",
              "  <script>\n",
              "    async function quickchart(key) {\n",
              "      const quickchartButtonEl =\n",
              "        document.querySelector('#' + key + ' button');\n",
              "      quickchartButtonEl.disabled = true;  // To prevent multiple clicks.\n",
              "      quickchartButtonEl.classList.add('colab-df-spinner');\n",
              "      try {\n",
              "        const charts = await google.colab.kernel.invokeFunction(\n",
              "            'suggestCharts', [key], {});\n",
              "      } catch (error) {\n",
              "        console.error('Error during call to suggestCharts:', error);\n",
              "      }\n",
              "      quickchartButtonEl.classList.remove('colab-df-spinner');\n",
              "      quickchartButtonEl.classList.add('colab-df-quickchart-complete');\n",
              "    }\n",
              "    (() => {\n",
              "      let quickchartButtonEl =\n",
              "        document.querySelector('#df-75c4a1a0-78a6-4293-8cd3-d1dcd0c493d8 button');\n",
              "      quickchartButtonEl.style.display =\n",
              "        google.colab.kernel.accessAllowed ? 'block' : 'none';\n",
              "    })();\n",
              "  </script>\n",
              "</div>\n",
              "\n",
              "    </div>\n",
              "  </div>\n"
            ],
            "application/vnd.google.colaboratory.intrinsic+json": {
              "type": "dataframe",
              "summary": "{\n  \"name\": \"df_interquantile\",\n  \"rows\": 5,\n  \"fields\": [\n    {\n      \"column\": \"Price Ranges\",\n      \"properties\": {\n        \"dtype\": \"string\",\n        \"num_unique_values\": 5,\n        \"samples\": [\n          \"Higher-mid price\",\n          \"Mid price\",\n          \"Low price\"\n        ],\n        \"semantic_type\": \"\",\n        \"description\": \"\"\n      }\n    },\n    {\n      \"column\": \"sentimentScore\",\n      \"properties\": {\n        \"dtype\": \"number\",\n        \"std\": 0.029663053132340068,\n        \"min\": 0.23962681085149892,\n        \"max\": 0.31473470887872684,\n        \"num_unique_values\": 5,\n        \"samples\": [\n          0.31473470887872684,\n          0.2761706506264958,\n          0.23962681085149892\n        ],\n        \"semantic_type\": \"\",\n        \"description\": \"\"\n      }\n    }\n  ]\n}"
            }
          },
          "metadata": {},
          "execution_count": 122
        }
      ]
    },
    {
      "cell_type": "markdown",
      "source": [
        "### **e) T-test for Review Votes by different Price Range**"
      ],
      "metadata": {
        "id": "gUoYLvQKjoWE"
      }
    },
    {
      "cell_type": "code",
      "source": [
        "df_interquantile = remove_outliers(df, 'Review Votes')"
      ],
      "metadata": {
        "id": "A0x249kPjnNG",
        "colab": {
          "base_uri": "https://localhost:8080/",
          "height": 619
        },
        "outputId": "d6635815-5404-4417-bcf2-f63d26ead940"
      },
      "execution_count": 123,
      "outputs": [
        {
          "output_type": "stream",
          "name": "stdout",
          "text": [
            "Lower Bound is nan\n",
            "Upper Bound is nan\n"
          ]
        },
        {
          "output_type": "display_data",
          "data": {
            "text/plain": [
              "<Figure size 640x480 with 1 Axes>"
            ],
            "image/png": "[encoded data removed]"
          },
          "metadata": {}
        },
        {
          "output_type": "stream",
          "name": "stdout",
          "text": [
            "Review Votes after removing outlier:\n",
            "count    0.0\n",
            "mean     NaN\n",
            "std      NaN\n",
            "min      NaN\n",
            "25%      NaN\n",
            "50%      NaN\n",
            "75%      NaN\n",
            "max      NaN\n",
            "Name: Review Votes, dtype: float64\n"
          ]
        }
      ]
    },
    {
      "cell_type": "code",
      "source": [],
      "metadata": {
        "id": "ece2iAm9j3-0"
      },
      "execution_count": 123,
      "outputs": []
    }
  ]
}